{
 "cells": [
  {
   "cell_type": "code",
   "execution_count": null,
   "id": "67baac13-ad69-468d-899a-a5bde282c035",
   "metadata": {},
   "outputs": [],
   "source": []
  }
 ],
 "metadata": {
  "kernelspec": {
   "display_name": "",
   "name": ""
  },
  "language_info": {
   "name": ""
  }
 },
 "nbformat": 4,
 "nbformat_minor": 5
}
