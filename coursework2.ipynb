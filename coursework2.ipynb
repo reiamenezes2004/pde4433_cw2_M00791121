{
 "cells": [
  {
   "cell_type": "code",
   "execution_count": 18,
   "id": "a3d49d63-2de6-4053-9e3a-0fc4ebdcf3b3",
   "metadata": {},
   "outputs": [],
   "source": [
    "# Required modules\n",
    "import os\n",
    "import cv2\n",
    "import numpy as np\n",
    "import pandas as pd\n",
    "from sklearn.preprocessing import LabelEncoder\n",
    "from tensorflow.keras.utils import to_categorical\n",
    "from tensorflow.keras.models import Sequential\n",
    "from tensorflow.keras.layers import Conv2D, MaxPooling2D, Flatten, Dense, Dropout\n",
    "from PIL import Image"
   ]
  },
  {
   "cell_type": "code",
   "execution_count": 19,
   "id": "6a1dc839-b6c1-4097-8a52-24bd48de93e7",
   "metadata": {},
   "outputs": [],
   "source": [
    "# Paths\n",
    "image_dir = \"segmented_plates\"\n",
    "csv_path = \"character_labels.csv\"\n",
    "\n",
    "# Load CSV\n",
    "df = pd.read_csv(csv_path)\n",
    "available_images = set(os.listdir(image_dir))\n",
    "df = df[df[\"filename\"].isin(available_images)]\n",
    "\n",
    "# Load images and labels\n",
    "images = []\n",
    "labels = []"
   ]
  },
  {
   "cell_type": "code",
   "execution_count": 20,
   "id": "51221160-dfaa-4173-b825-6ff92ff34b16",
   "metadata": {},
   "outputs": [
    {
     "name": "stdout",
     "output_type": "stream",
     "text": [
      "Loaded 239 images with shape (239, 32, 32, 1)\n",
      "Sample label: DELETE\n",
      "Total classes: 219\n",
      "Sample encoded label: [0. 0. 0. 0. 0. 0. 0. 0. 0. 0. 0. 0. 0. 0. 0. 0. 0. 0. 1. 0. 0. 0. 0. 0.\n",
      " 0. 0. 0. 0. 0. 0. 0. 0. 0. 0. 0. 0. 0. 0. 0. 0. 0. 0. 0. 0. 0. 0. 0. 0.\n",
      " 0. 0. 0. 0. 0. 0. 0. 0. 0. 0. 0. 0. 0. 0. 0. 0. 0. 0. 0. 0. 0. 0. 0. 0.\n",
      " 0. 0. 0. 0. 0. 0. 0. 0. 0. 0. 0. 0. 0. 0. 0. 0. 0. 0. 0. 0. 0. 0. 0. 0.\n",
      " 0. 0. 0. 0. 0. 0. 0. 0. 0. 0. 0. 0. 0. 0. 0. 0. 0. 0. 0. 0. 0. 0. 0. 0.\n",
      " 0. 0. 0. 0. 0. 0. 0. 0. 0. 0. 0. 0. 0. 0. 0. 0. 0. 0. 0. 0. 0. 0. 0. 0.\n",
      " 0. 0. 0. 0. 0. 0. 0. 0. 0. 0. 0. 0. 0. 0. 0. 0. 0. 0. 0. 0. 0. 0. 0. 0.\n",
      " 0. 0. 0. 0. 0. 0. 0. 0. 0. 0. 0. 0. 0. 0. 0. 0. 0. 0. 0. 0. 0. 0. 0. 0.\n",
      " 0. 0. 0. 0. 0. 0. 0. 0. 0. 0. 0. 0. 0. 0. 0. 0. 0. 0. 0. 0. 0. 0. 0. 0.\n",
      " 0. 0. 0.]\n"
     ]
    }
   ],
   "source": [
    "for _, row in df.iterrows():\n",
    "    img_path = os.path.join(image_dir, row['filename'])\n",
    "    img = Image.open(img_path).convert(\"L\").resize((32, 32))  # grayscale + resize\n",
    "    images.append(np.array(img) / 255.0)  # normalize\n",
    "    labels.append(row['label'])\n",
    "\n",
    "# Convert to arrays\n",
    "X = np.array(images).reshape(-1, 32, 32, 1)\n",
    "y = np.array(labels)\n",
    "\n",
    "print(\"Loaded\", len(X), \"images with shape\", X.shape)\n",
    "print(\"Sample label:\", y[0])\n",
    "\n",
    "# Encode labels\n",
    "label_encoder = LabelEncoder()\n",
    "encoded_labels = label_encoder.fit_transform(y)\n",
    "y_encoded = to_categorical(encoded_labels)\n",
    "\n",
    "print(\"Total classes:\", y_encoded.shape[1])\n",
    "print(\"Sample encoded label:\", y_encoded[0])"
   ]
  },
  {
   "cell_type": "code",
   "execution_count": null,
   "id": "5db047f5-98e3-44ee-b777-e273eccba8ef",
   "metadata": {},
   "outputs": [],
   "source": []
  }
 ],
 "metadata": {
  "kernelspec": {
   "display_name": "Python 3 (ipykernel)",
   "language": "python",
   "name": "python3"
  },
  "language_info": {
   "codemirror_mode": {
    "name": "ipython",
    "version": 3
   },
   "file_extension": ".py",
   "mimetype": "text/x-python",
   "name": "python",
   "nbconvert_exporter": "python",
   "pygments_lexer": "ipython3",
   "version": "3.12.0"
  }
 },
 "nbformat": 4,
 "nbformat_minor": 5
}
