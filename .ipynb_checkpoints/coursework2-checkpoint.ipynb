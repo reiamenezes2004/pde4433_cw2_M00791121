{
 "cells": [
  {
   "cell_type": "code",
   "execution_count": 1,
   "id": "7adbd52e-8603-4700-901c-37cb5d257b11",
   "metadata": {},
   "outputs": [
    {
     "name": "stdout",
     "output_type": "stream",
     "text": [
      "Requirement already satisfied: opencv-python in c:\\users\\reia\\appdata\\local\\programs\\python\\python312\\lib\\site-packages (4.11.0.86)\n",
      "Requirement already satisfied: pytesseract in c:\\users\\reia\\appdata\\local\\programs\\python\\python312\\lib\\site-packages (0.3.13)\n",
      "Requirement already satisfied: pandas in c:\\users\\reia\\appdata\\local\\programs\\python\\python312\\lib\\site-packages (2.2.3)\n",
      "Requirement already satisfied: openpyxl in c:\\users\\reia\\appdata\\local\\programs\\python\\python312\\lib\\site-packages (3.1.5)\n",
      "Requirement already satisfied: numpy>=1.21.2 in c:\\users\\reia\\appdata\\local\\programs\\python\\python312\\lib\\site-packages (from opencv-python) (2.0.2)\n",
      "Requirement already satisfied: packaging>=21.3 in c:\\users\\reia\\appdata\\local\\programs\\python\\python312\\lib\\site-packages (from pytesseract) (24.2)\n",
      "Requirement already satisfied: Pillow>=8.0.0 in c:\\users\\reia\\appdata\\local\\programs\\python\\python312\\lib\\site-packages (from pytesseract) (11.1.0)\n",
      "Requirement already satisfied: python-dateutil>=2.8.2 in c:\\users\\reia\\appdata\\local\\programs\\python\\python312\\lib\\site-packages (from pandas) (2.9.0.post0)\n",
      "Requirement already satisfied: pytz>=2020.1 in c:\\users\\reia\\appdata\\local\\programs\\python\\python312\\lib\\site-packages (from pandas) (2025.1)\n",
      "Requirement already satisfied: tzdata>=2022.7 in c:\\users\\reia\\appdata\\local\\programs\\python\\python312\\lib\\site-packages (from pandas) (2025.1)\n",
      "Requirement already satisfied: et-xmlfile in c:\\users\\reia\\appdata\\local\\programs\\python\\python312\\lib\\site-packages (from openpyxl) (2.0.0)\n",
      "Requirement already satisfied: six>=1.5 in c:\\users\\reia\\appdata\\local\\programs\\python\\python312\\lib\\site-packages (from python-dateutil>=2.8.2->pandas) (1.17.0)\n"
     ]
    },
    {
     "name": "stderr",
     "output_type": "stream",
     "text": [
      "\n",
      "[notice] A new release of pip is available: 23.2.1 -> 25.0.1\n",
      "[notice] To update, run: C:\\Users\\REIA\\AppData\\Local\\Programs\\Python\\Python312\\python.exe -m pip install --upgrade pip\n"
     ]
    }
   ],
   "source": [
    "#ensuring all required dependencies are installed\n",
    "!pip install opencv-python pytesseract pandas openpyxl"
   ]
  },
  {
   "cell_type": "code",
   "execution_count": 5,
   "id": "bdbdde1a-8ba6-46ae-a63f-eb2afa03b096",
   "metadata": {},
   "outputs": [],
   "source": [
    "#checking if tesseract has been installed correctly\n",
    "import pytesseract\n",
    "pytesseract.pytesseract.tesseract_cmd = r\"C:\\Program Files\\Tesseract-OCR\\tesseract.exe\""
   ]
  },
  {
   "cell_type": "code",
   "execution_count": 6,
   "id": "4f1af816-7289-4388-91d3-b246f02a7112",
   "metadata": {},
   "outputs": [],
   "source": [
    "#ensuring opencv is working\n",
    "import cv2\n",
    "\n",
    "cap = cv2.VideoCapture(0)  # laptop camera and 1 is webcam\n",
    "\n",
    "while True:\n",
    "    ret, frame = cap.read()\n",
    "    if not ret:\n",
    "        break\n",
    "\n",
    "    cv2.imshow(\"Webcam Test\", frame)  # show live feed\n",
    "\n",
    "    if cv2.waitKey(1) & 0xFF == ord('q'):  # 'q' key to exit\n",
    "        break\n",
    "\n",
    "cap.release()\n",
    "cv2.destroyAllWindows()\n"
   ]
  },
  {
   "cell_type": "code",
   "execution_count": 9,
   "id": "65acca8b-2e96-4b07-8d46-142385111570",
   "metadata": {},
   "outputs": [
    {
     "name": "stdout",
     "output_type": "stream",
     "text": [
      "Log file 'ANPR_Log.xlsx' is ready.\n"
     ]
    }
   ],
   "source": [
    "#creating the excel file to save the logs\n",
    "import pandas as pd\n",
    "import os\n",
    "\n",
    "log_file = \"ANPR_Log.xlsx\"\n",
    "\n",
    "if not os.path.exists(log_file):\n",
    "    df = pd.DataFrame(columns=[\"Timestamp\", \"License Plate\", \"Image Path\", \"Frequent Entry\", \"Anomaly\"])\n",
    "    df.to_excel(log_file, index=False, engine=\"openpyxl\")\n",
    "\n",
    "print(f\"Log file '{log_file}' is ready.\")\n"
   ]
  },
  {
   "cell_type": "code",
   "execution_count": 28,
   "id": "cde9d7f8-431a-4f51-91bc-4373f8bf5c7b",
   "metadata": {},
   "outputs": [
    {
     "name": "stdout",
     "output_type": "stream",
     "text": [
      "Extracted Text: 385\n",
      "\n"
     ]
    }
   ],
   "source": [
    "import cv2\n",
    "import pytesseract\n",
    "import numpy as np\n",
    "\n",
    "# ✅ Load the test image\n",
    "image = cv2.imread(\"test_plate2.png\")  # Ensure correct image file name\n",
    "\n",
    "# ✅ Convert to grayscale\n",
    "gray = cv2.cvtColor(image, cv2.COLOR_BGR2GRAY)\n",
    "\n",
    "# ✅ Apply noise reduction and thresholding\n",
    "gray = cv2.GaussianBlur(gray, (5, 5), 0)  # Remove noise\n",
    "gray = cv2.threshold(gray, 0, 255, cv2.THRESH_BINARY + cv2.THRESH_OTSU)[1]  # Improve contrast\n",
    "\n",
    "# ✅ Define OCR configuration to detect both letters and numbers\n",
    "custom_config = r'--oem 3 --psm 6 -c tessedit_char_whitelist=ABCDEFGHIJKLMNOPQRSTUVWXYZ0123456789'\n",
    "\n",
    "# ✅ Extract text using Tesseract\n",
    "text = pytesseract.image_to_string(gray, config=custom_config)\n",
    "\n",
    "print(f\"Extracted Text: {text}\")\n",
    "\n",
    "# ✅ Display processed image to verify improvements\n",
    "cv2.imshow(\"Processed Image\", gray)\n",
    "cv2.waitKey(0)\n",
    "cv2.destroyAllWindows()\n"
   ]
  },
  {
   "cell_type": "code",
   "execution_count": null,
   "id": "b443f159-e072-472e-83f8-37fe7feb4d54",
   "metadata": {},
   "outputs": [],
   "source": []
  },
  {
   "cell_type": "code",
   "execution_count": null,
   "id": "a3d49d63-2de6-4053-9e3a-0fc4ebdcf3b3",
   "metadata": {},
   "outputs": [],
   "source": []
  }
 ],
 "metadata": {
  "kernelspec": {
   "display_name": "Python 3 (ipykernel)",
   "language": "python",
   "name": "python3"
  },
  "language_info": {
   "codemirror_mode": {
    "name": "ipython",
    "version": 3
   },
   "file_extension": ".py",
   "mimetype": "text/x-python",
   "name": "python",
   "nbconvert_exporter": "python",
   "pygments_lexer": "ipython3",
   "version": "3.12.0"
  }
 },
 "nbformat": 4,
 "nbformat_minor": 5
}
