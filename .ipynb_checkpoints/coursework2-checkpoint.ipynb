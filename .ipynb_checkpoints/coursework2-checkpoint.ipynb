{
 "cells": [
  {
   "cell_type": "code",
   "execution_count": 2,
   "id": "a3d49d63-2de6-4053-9e3a-0fc4ebdcf3b3",
   "metadata": {},
   "outputs": [],
   "source": [
    "#required modules\n",
    "import cv2\n",
    "import numpy as np\n",
    "import pandas as pd\n",
    "import os"
   ]
  },
  {
   "cell_type": "code",
   "execution_count": 3,
   "id": "6a1dc839-b6c1-4097-8a52-24bd48de93e7",
   "metadata": {},
   "outputs": [],
   "source": [
    "#paths\n",
    "image_dir = \"Dubai_images\"\n",
    "csv_path = \"labels_final.csv\"\n",
    "\n",
    "#loading the CSV\n",
    "df = pd.read_csv(csv_path)\n",
    "\n",
    "#Lists to store data\n",
    "images = []\n",
    "labels = []"
   ]
  },
  {
   "cell_type": "code",
   "execution_count": 4,
   "id": "51221160-dfaa-4173-b825-6ff92ff34b16",
   "metadata": {},
   "outputs": [],
   "source": [
    "for _, row in df.iterrows():\n",
    "    img_path = os.path.join(image_dir, row['filename'])\n",
    "    img = cv2.imread(img_path, cv2.IMREAD_GRAYSCALE)  # grayscale\n",
    "    if img is not None:\n",
    "        img = cv2.resize(img, (128, 64))               # resizing\n",
    "        img = img / 255.0                              # normalize\n",
    "        images.append(img)\n",
    "        labels.append(row['plate_text'])"
   ]
  },
  {
   "cell_type": "code",
   "execution_count": 9,
   "id": "ccb2b193-2654-4783-a24d-a03bd3a045bf",
   "metadata": {},
   "outputs": [
    {
     "name": "stdout",
     "output_type": "stream",
     "text": [
      "Loaded 240 images with shape (240, 64, 128, 1)\n",
      "Sample label: P 12034\n"
     ]
    }
   ],
   "source": [
    "#loading all the images\n",
    "X = np.array(images).reshape(-1, 64, 128, 1)\n",
    "y = np.array(labels)\n",
    "\n",
    "print(\"Loaded\", len(X), \"images with shape\", X.shape)\n",
    "print(\"Sample label:\", y[0])"
   ]
  },
  {
   "cell_type": "code",
   "execution_count": 10,
   "id": "14e7a8a2-bc35-4ca8-a0fe-cb8a7f99b5b7",
   "metadata": {},
   "outputs": [
    {
     "name": "stdout",
     "output_type": "stream",
     "text": [
      "Missing or unreadable images: []\n",
      "Total missing: 0\n"
     ]
    }
   ],
   "source": [
    "#ensuring all images have loaded\n",
    "missing = []\n",
    "\n",
    "for _, row in df.iterrows():\n",
    "    img_path = os.path.join(image_dir, row['filename'])\n",
    "    img = cv2.imread(img_path, cv2.IMREAD_GRAYSCALE)\n",
    "    if img is None:\n",
    "        missing.append(row['filename'])\n",
    "\n",
    "print(\"Missing or unreadable images:\", missing)\n",
    "print(\"Total missing:\", len(missing))"
   ]
  },
  {
   "cell_type": "code",
   "execution_count": null,
   "id": "a92b57b9-0c1e-4dce-84a1-881185f53b23",
   "metadata": {},
   "outputs": [],
   "source": []
  }
 ],
 "metadata": {
  "kernelspec": {
   "display_name": "Python 3 (ipykernel)",
   "language": "python",
   "name": "python3"
  },
  "language_info": {
   "codemirror_mode": {
    "name": "ipython",
    "version": 3
   },
   "file_extension": ".py",
   "mimetype": "text/x-python",
   "name": "python",
   "nbconvert_exporter": "python",
   "pygments_lexer": "ipython3",
   "version": "3.12.0"
  }
 },
 "nbformat": 4,
 "nbformat_minor": 5
}
